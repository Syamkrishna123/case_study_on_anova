{
 "cells": [
  {
   "cell_type": "code",
   "execution_count": 1,
   "id": "b3e35ee5",
   "metadata": {},
   "outputs": [],
   "source": [
    "import numpy as np\n",
    "import pandas as pd\n"
   ]
  },
  {
   "cell_type": "code",
   "execution_count": 2,
   "id": "b04f71de",
   "metadata": {},
   "outputs": [
    {
     "name": "stdout",
     "output_type": "stream",
     "text": [
      "       Month  Zone - A  Zone - B  Zone - C  Zone - D\n",
      "0  Month - 1   1483525   1748451   1523308   2267260\n",
      "1  Month - 2   1238428   1707421   2212113   1994341\n",
      "2  Month - 3   1860771   2091194   1282374   1241600\n",
      "3  Month - 4   1871571   1759617   2290580   2252681\n",
      "4  Month - 5   1244922   1606010   1818334   1326062\n"
     ]
    }
   ],
   "source": [
    "dt= pd.read_csv('Sales_data_zone_wise.csv')\n",
    "print(dt.head(5))"
   ]
  },
  {
   "cell_type": "code",
   "execution_count": null,
   "id": "9888a669",
   "metadata": {},
   "outputs": [],
   "source": []
  }
 ],
 "metadata": {
  "kernelspec": {
   "display_name": "Python 3",
   "language": "python",
   "name": "python3"
  },
  "language_info": {
   "codemirror_mode": {
    "name": "ipython",
    "version": 3
   },
   "file_extension": ".py",
   "mimetype": "text/x-python",
   "name": "python",
   "nbconvert_exporter": "python",
   "pygments_lexer": "ipython3",
   "version": "3.8.8"
  }
 },
 "nbformat": 4,
 "nbformat_minor": 5
}
